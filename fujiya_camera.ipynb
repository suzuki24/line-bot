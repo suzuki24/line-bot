{
 "cells": [
  {
   "cell_type": "code",
   "execution_count": null,
   "metadata": {},
   "outputs": [],
   "source": [
    "import random\n",
    "from tqdm import tqdm\n",
    "import requests\n",
    "from bs4 import BeautifulSoup\n",
    "import pandas as pd\n",
    "from oauth2client.service_account import ServiceAccountCredentials\n",
    "import time\n",
    "\n",
    "from linebot import LineBotApi\n",
    "from linebot.models import TextSendMessage\n",
    "from linebot.exceptions import LineBotApiError\n",
    "\n",
    "LINE_ACCESS_TOKEN = \"ThF6Mnd6g7W24b6bLYfIkPNga7Kfnsq8E9KicUqG0ka3oP2+ASMZHEHqLwyn8dWLBP5Isdlpq8REXRo5z71GwFdquxnXYL4EIXBSeahe/Ae1wUN3ScpwzltzO5kl4JSC1BdRwzrnxh/tMCVLNCSAYQdB04t89/1O/w1cDnyilFU=\"\n",
    "LINE_USER_ID = \"Ub09d0ac8368e55b793488553c03ed888\"\n",
    "line_bot_api = LineBotApi(LINE_ACCESS_TOKEN)\n",
    "\n",
    "while(True):\n",
    "    my_header = {\n",
    "        \"User-Agent\" : \"Mozilla/5.0 (Windows NT 6.1; WOW64; Trident/7.0; NP06; rv:11.0) like Gecko\"\n",
    "    }\n",
    "\n",
    "    url=\"https://www.fujiya-camera.co.jp/shop/e/ec-usednw_srd/\"\n",
    "    sell = requests.get(url, headers = my_header)\n",
    "    sell.encoding = sell.apparent_encoding #エンコーディングを設定。これがないと文字化けする。\n",
    "    soup_sell = BeautifulSoup(sell.text, \"html.parser\") \n",
    "    item_name_=soup_sell.find_all(class_=\"block-thumbnail-t--goods-name\")\n",
    "\n",
    "    item_name_list=[]\n",
    "\n",
    "    for i in item_name_:\n",
    "        item_name_list.append(i.text)\n",
    "\n",
    "    time.sleep(300)\n",
    "\n",
    "    url=\"https://www.fujiya-camera.co.jp/shop/e/ec-usednw_srd/\"\n",
    "    sell = requests.get(url, headers = my_header)\n",
    "    sell.encoding = sell.apparent_encoding #エンコーディングを設定。これがないと文字化けする。\n",
    "    soup_sell = BeautifulSoup(sell.text, \"html.parser\") \n",
    "    item_name_2_=soup_sell.find_all(class_=\"block-thumbnail-t--goods-name\")\n",
    "\n",
    "    item_name_list_2=[]\n",
    "\n",
    "    for i in item_name_2_:\n",
    "        item_name_list_2.append(i.text)\n",
    "\n",
    "    if item_name_list != item_name_list_2:\n",
    "        line_bot_api.push_message(LINE_USER_ID, TextSendMessage(text=\"商品が更新されました！\"))\n"
   ]
  },
  {
   "cell_type": "code",
   "execution_count": null,
   "metadata": {},
   "outputs": [],
   "source": []
  }
 ],
 "metadata": {
  "kernelspec": {
   "display_name": "Python 3",
   "language": "python",
   "name": "python3"
  },
  "language_info": {
   "codemirror_mode": {
    "name": "ipython",
    "version": 3
   },
   "file_extension": ".py",
   "mimetype": "text/x-python",
   "name": "python",
   "nbconvert_exporter": "python",
   "pygments_lexer": "ipython3",
   "version": "3.8.5"
  }
 },
 "nbformat": 4,
 "nbformat_minor": 4
}

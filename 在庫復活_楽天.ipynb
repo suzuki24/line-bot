{
 "cells": [
  {
   "cell_type": "code",
   "execution_count": 3,
   "metadata": {},
   "outputs": [],
   "source": [
    "import time\n",
    "import requests\n",
    "from bs4 import BeautifulSoup\n",
    "from linebot import LineBotApi\n",
    "from linebot.models import TextSendMessage\n",
    "from linebot.exceptions import LineBotApiError\n",
    "\n",
    "LINE_ACCESS_TOKEN = \"U3jy0gTiY/wBRRcYTv6Z0uXIM3SspWd8LVWBXOtTlYL1v+1TZBj+nZTnWDDFX0CajiU44LugztD7Rg3mdAtJVKyMKvBIImBY8WwT+mM2nJjz06SXZk69GYcGaP4ovUhY8SNZfxtWtprfdZi6+StnOgdB04t89/1O/w1cDnyilFU=\"\n",
    "LINE_USER_ID = \"U93b942f66ff7f86ebdbaa1bf9f132ed8\"\n",
    "line_bot_api = LineBotApi(LINE_ACCESS_TOKEN)\n",
    "\n",
    "my_header = {\n",
    "    \"User-Agent\" : \"Mozilla/5.0 (Windows NT 6.1; WOW64; Trident/7.0; NP06; rv:11.0) like Gecko\"\n",
    "}\n",
    "sell_url = [\"https://item.rakuten.co.jp/auc-worldichi/4948872415026/\"]\n",
    "\n",
    "# 対象URLの在庫を確認\n",
    "for i in range(len(sell_url)):\n",
    "    sell = requests.get(sell_url[i], headers = my_header)\n",
    "    sell.encoding = sell.apparent_encoding\n",
    "    soup_sell = BeautifulSoup(sell.text, \"html.parser\")\n",
    "    item_name = [\"PS5\"]\n",
    "    try:\n",
    "        detail = soup_sell.find(color=\"#FF0000\").text\n",
    "        sell_price = soup_sell.find(itemprop=\"price\").text\n",
    "        if \"発送\" in detail:\n",
    "            if i == 0:\n",
    "                item_name = item_name[0] + \" 在庫あり\"\n",
    "                url_amazon = amazon_url[0]\n",
    "                url_sell = sell_url[0]\n",
    "\n",
    "    except AttributeError:\n",
    "        print(\"Error\")\n",
    "\n",
    "    if \"在庫あり\" in item_name:\n",
    "        try:\n",
    "            line_bot_api.push_message(LINE_USER_ID, TextSendMessage(text=item_name))\n",
    "            line_bot_api.push_message(LINE_USER_ID, TextSendMessage(text=sell_price))\n",
    "            line_bot_api.push_message(LINE_USER_ID, TextSendMessage(text=url_sell))\n",
    "        except LineBotApiError as e:\n",
    "            print(e)\n",
    "            \n"
   ]
  },
  {
   "cell_type": "code",
   "execution_count": null,
   "metadata": {},
   "outputs": [],
   "source": []
  }
 ],
 "metadata": {
  "kernelspec": {
   "display_name": "Python 3",
   "language": "python",
   "name": "python3"
  },
  "language_info": {
   "codemirror_mode": {
    "name": "ipython",
    "version": 3
   },
   "file_extension": ".py",
   "mimetype": "text/x-python",
   "name": "python",
   "nbconvert_exporter": "python",
   "pygments_lexer": "ipython3",
   "version": "3.7.6"
  }
 },
 "nbformat": 4,
 "nbformat_minor": 4
}
